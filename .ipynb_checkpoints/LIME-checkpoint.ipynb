{
 "cells": [
  {
   "cell_type": "code",
   "execution_count": 359,
   "metadata": {},
   "outputs": [],
   "source": [
    "#libraries\n",
    "import numpy as np\n",
    "import scipy as sp\n",
    "import pandas as pd\n",
    "\n",
    "import sklearn\n",
    "import random\n",
    "import os\n",
    "import re\n",
    "import logging\n",
    "import sys\n",
    "from tqdm import tqdm\n",
    "import collections\n",
    "\n",
    "import matplotlib.pyplot as plt; plt.rcdefaults()\n",
    "import matplotlib.pyplot as plt\n",
    "from IPython.display import HTML, display\n",
    "\n",
    "\n",
    "from sklearn.feature_extraction.text import CountVectorizer\n",
    "from sklearn import svm\n",
    "from sklearn import linear_model\n",
    "from sklearn import tree\n",
    "from sklearn import neighbors\n",
    "from sklearn import ensemble\n",
    "\n",
    "#sample dataset from paper\n",
    "from sklearn.datasets import fetch_20newsgroups\n",
    "\n",
    "from IPython.display import HTML, display\n",
    "\n"
   ]
  },
  {
   "cell_type": "markdown",
   "metadata": {},
   "source": [
    "Datasets - Books and DVD taken from https://www.cs.jhu.edu/~mdredze/datasets/sentiment/ "
   ]
  },
  {
   "cell_type": "code",
   "execution_count": 138,
   "metadata": {
    "scrolled": true
   },
   "outputs": [
    {
     "name": "stdout",
     "output_type": "stream",
     "text": [
      "1600 x 400\n"
     ]
    }
   ],
   "source": [
    "#datasets used in paper\n",
    "\n",
    "data_path_books = \"processed_acl/books/\"\n",
    "data_path_dvd = \"processed_acl/dvd/\"\n",
    "\n",
    "def Load_Dataset(path_data):\n",
    "    \n",
    "    random.seed(1)\n",
    "   \n",
    "    pos = []\n",
    "    neg = []\n",
    "    \n",
    "    def get_words(line):\n",
    "\n",
    "        z = [tuple(x.split(':')) for x in re.findall('\\w*?:\\d', line)]\n",
    "        z = ' '.join([' '.join([x[0]] * int(x[1])) for x in z if '_' not in x[0]])\n",
    "        \n",
    "        return z\n",
    "    \n",
    "    for line in open(os.path.join(path_data, 'negative.review')):\n",
    "        neg.append(get_words(line))\n",
    "    for line in open(os.path.join(path_data, 'positive.review')):\n",
    "        pos.append(get_words(line))\n",
    "        \n",
    "    random.shuffle(pos)\n",
    "    random.shuffle(neg)\n",
    "    \n",
    "    split_pos = int(len(pos) * .8)\n",
    "    split_neg = int(len(neg) * .8)\n",
    "    \n",
    "    train_data = pos[:split_pos] + neg[:split_neg]\n",
    "    test_data = pos[split_pos:] + neg[split_neg:]\n",
    "    \n",
    "    train_labels = [1] * len(pos[:split_pos]) + [0] * len(neg[:split_neg])\n",
    "    test_labels = [1] * len(pos[split_pos:]) + [0] * len(neg[split_neg:])\n",
    "    \n",
    "    return train_data, np.array(train_labels), test_data, np.array(test_labels), ['neg', 'pos']\n",
    "\n",
    "\n",
    "train_data, train_labels, test_data, test_labels, class_names = Load_Dataset(data_path_books)\n",
    "\n",
    "assert len(train_data) == 1600\n",
    "assert len(test_data) == 400\n",
    "\n",
    "print(len(train_data), \"x\", len(test_data))\n",
    "#pd.DataFrame(train_data)\n",
    "#train_data[16]"
   ]
  },
  {
   "cell_type": "markdown",
   "metadata": {},
   "source": [
    "Algorithm for LIME\n",
    "\n",
    "<table>\n",
    "    <tr>\n",
    "        <td><img src=\"algorithm_1.png\" alt=\"Drawing\" style=\"width: 400px;\"/></td>\n",
    "    </tr>\n",
    "</table>"
   ]
  },
  {
   "cell_type": "markdown",
   "metadata": {},
   "source": [
    "use similarity kernel = $\\pi_x (z) = exp(-D(x,z)^2/\\sigma^2$) for all experiments\n",
    "\n",
    "D is cosine distance for text\n",
    "\n",
    "g $\\in$ G, where G is a class of potentially interpretable models (i.e linear models, decision trees, etc), choose g to be linear model\n",
    "\n",
    "$\\xi$(x) = argmin L(f, g, $\\pi_x$) + $\\Omega$(g)\n",
    "\n",
    "$L(f, g, \\pi_x) = \\sum_{z, z' \\in Z} \\pi_x(z) (f(z) - g(z'))^2 $"
   ]
  },
  {
   "cell_type": "code",
   "execution_count": 143,
   "metadata": {},
   "outputs": [],
   "source": [
    "DEBUG = True\n",
    "\n",
    "def log(s):\n",
    "    if DEBUG:\n",
    "        print(s)"
   ]
  },
  {
   "cell_type": "code",
   "execution_count": 407,
   "metadata": {},
   "outputs": [],
   "source": [
    "# Explainer - LIME\n",
    "\n",
    "#f = classifier, N = number of samples, pi = similarity kernel, K = length of explanation (used for K-Lasso)\n",
    "#x = instance, x' = interpretable version (bag of words), z' = subspace of x, Z = perturbed X, w = weights \n",
    "\n",
    "class LIME:\n",
    "    \n",
    "    #required f - classifier\n",
    "    #required pi - similarity kernel\n",
    "    #required N - number of samples\n",
    "    #required K - length of explanation K\n",
    "    \n",
    "    def __init__(self, N, K=10):\n",
    "        self.N = N\n",
    "        self.K = K\n",
    "        #sigma = 25\n",
    "        #self.kernel_fn = lambda D: np.sqrt(np.exp(-(D**2) / sigma ** 2))\n",
    "\n",
    "    def similarity_kernel(self, x, z):\n",
    "        \n",
    "        # cosine similarity\n",
    "        cos_distance = sklearn.metrics.pairwise.cosine_distances(x, z)[0]*100\n",
    "        \n",
    "        # distance kernel\n",
    "        sigma = 25\n",
    "        kernalized_distance = lambda D: np.sqrt(np.exp(-(D**2)/sigma**2))\n",
    "        kernalized_D = kernalized_distance(cos_distance)\n",
    "        \n",
    "        return kernalized_D\n",
    "    \n",
    "    def explain_instance(self, x, label, classifier):   \n",
    "        \n",
    "        #x, #x', #z, #z'\n",
    "        \n",
    "        # x -> x'\n",
    "        #print(x)\n",
    "        \n",
    "        # Z <- {}\n",
    "        \n",
    "        #gets all the features\n",
    "        features = x.nonzero()[1]\n",
    "        vals = np.array(x[x.nonzero()])[0]\n",
    "        log([\"values\", vals])\n",
    "\n",
    "        #gets a sample\n",
    "        num_features = len(features)\n",
    "        sample = np.random.randint(1, num_features, self.N - 1)\n",
    "        log([\"sample\", sample])\n",
    "        \n",
    "        #create sample x features\n",
    "        data = np.zeros((self.N, num_features))\n",
    "        inverse_data = np.zeros((self.N, num_features))     \n",
    "        \n",
    "        #setup\n",
    "        data[0] = np.ones(num_features)\n",
    "        inverse_data[0] = vals\n",
    "        features_range = range(len(features))\n",
    "        \n",
    "        # z' = sample around (x')\n",
    "        #for i in range(N):\n",
    "        for i, s in enumerate(sample, start=1):\n",
    "            #drawing non zero elements of x' uniformly at random\n",
    "            #(where the number of such draws is also uniformly sampled)\n",
    "            \n",
    "            #random permutation with features_range\n",
    "            active = np.random.choice(features_range, s, replace=False) \n",
    "            \n",
    "            data[i, active] = 1\n",
    "            \n",
    "            for j in active:\n",
    "                inverse_data[i, j] = 1\n",
    "                \n",
    "        log([\"data\", data])\n",
    "        log([\"inverse_data\", inverse_data])\n",
    "        \n",
    "        #converting back to sparse matrix\n",
    "        z_s = sp.sparse.lil_matrix((inverse_data.shape[0], x.shape[1]))\n",
    "        z_s[:, features] = inverse_data\n",
    "        z_s = sp.sparse.csr_matrix(z_s)\n",
    "        log([\"sparse_inverse\", z_s.getnnz()])\n",
    "        log([\"sparse_inverse\", z_s])\n",
    "        \n",
    "        \n",
    "        # Z = Z union <z'_i f(z_i), pi_x(z_i)>\n",
    "        \n",
    "        #f(z) - getting the labels\n",
    "        labels = classifier.predict_proba(z_s)\n",
    "        \n",
    "        #pi_x(z_i) - getting the distances\n",
    "        #weights the data based on distance\n",
    "        orig_x = z_s[0]\n",
    "        weights = self.similarity_kernel(orig_x, z_s)\n",
    "        log([\"distances:\", weights])        \n",
    "        weighted_data = data * weights[:, np.newaxis]\n",
    "        \n",
    "        #label = 0 | 1\n",
    "        log([\"labels\", labels])\n",
    "        mean = np.mean(labels[:, label])\n",
    "        shifted_labels = labels[:, label] - mean\n",
    "        log(['mean', mean])\n",
    "        \n",
    "        weighted_labels = shifted_labels * weights\n",
    "        \n",
    "        log([\"weighted_data\", weighted_data])\n",
    "        log([\"weighted_labels\", weighted_labels])\n",
    "\n",
    "        \n",
    "        used_features = range(weighted_data.shape[1])\n",
    "        log([\"used_features\", len(used_features)])\n",
    "        \n",
    "        #K-Lasso\n",
    "        #w = K-Lasso(Z,K) with z'_i as features, f(z) as target\n",
    "        #selecting K features with Lasso (using the regularization path [9 - Least Angle Regression]) \n",
    "        \n",
    "        nonzero = used_features\n",
    "        \n",
    "        alpha = 1\n",
    "        alphas, _, coefs = sklearn.linear_model.lars_path(weighted_data, weighted_labels, method='lasso')\n",
    "        \n",
    "        #select K\n",
    "        for i in range(len(coefs.T) - 1, 0, -1):\n",
    "            nonzero = coefs.T[i].nonzero()[0]\n",
    "            if len(nonzero) <= self.K:\n",
    "                chosen_coefs = coefs.T[i]\n",
    "                alpha = alphas[i]\n",
    "                break\n",
    "                \n",
    "        used_features = nonzero\n",
    "\n",
    "        #learning the weights via least squares        \n",
    "        #fitting a linear sparse model with target labels of f(z)\n",
    "        local_model = linear_model.Ridge(alpha=0, fit_intercept=False)\n",
    "        local_model.fit(weighted_data[:, used_features], weighted_labels)\n",
    "        \n",
    "        original_label = labels[0, label]\n",
    "        local_prediction = local_model.predict(data[0, used_features].reshape(1, -1)) + mean\n",
    "        log([\"True Label vs Local Model Prediction: \", original_label, local_prediction])\n",
    "        \n",
    "        #print(zip(used_features, local_model.coef_), key=lambda x:np.abs(x[1]))\n",
    "        \n",
    "        #mapping feature indices back to features\n",
    "        vocab_features = []\n",
    "        \n",
    "        for feature in used_features:\n",
    "            vocab_features.append(features[feature])\n",
    "            \n",
    "        #print(used_features)\n",
    "        explanations = sorted(zip(vocab_features, local_model.coef_), key=lambda x:np.abs(x[1]), reverse=True)\n",
    "        #mapped_explanations = map(lambda x: \n",
    "                                  \n",
    "        log([\"raw explanation:\", explanations])\n",
    "        \n",
    "        #x => x' => z' => z\n",
    "        #mapping features back to vocab\n",
    "        for explanation in explanations:\n",
    "            log([\"explanation:\", inverse_vocabulary[explanation[0]], explanation[1]])\n",
    "            \n",
    "        return explanations, mean\n"
   ]
  },
  {
   "cell_type": "code",
   "execution_count": 408,
   "metadata": {
    "scrolled": false
   },
   "outputs": [
    {
     "name": "stdout",
     "output_type": "stream",
     "text": [
      "vocab size:  23035\n",
      "vocab ['00' '000' '0001' ... 'zombie' 'zur' 'zus']\n",
      "train_vectors shape:  (1079, 23035)\n",
      "instance_vector shape:  (1, 23035)\n",
      "test prediction: [[0.00248503 0.99751497]]\n",
      "[(22865, 1), (9072, 1), (17304, 1), (946, 1), (21507, 1), (17234, 1), (2515, 1), (18764, 1), (12257, 1), (15766, 1)]\n",
      "From: creps@lateran.ucs.indiana.edu (Stephen A. Creps)\n",
      "Subject: Re: The doctrine of Original Sin\n",
      "Organization: Indiana University\n",
      "Lines: 31\n",
      "\n",
      "In article <May.11.02.39.02.1993.28325@athos.rutgers.edu> Eugene.Bigelow@ebay.sun.com writes:\n",
      ">>This all obviously applies equally well to infants or adults, since\n",
      ">>both have souls.  Infants must be baptized, therefore, or they cannot\n",
      ">>enter into Heaven.  They too need this form of life in them, or they\n",
      ">>cannot enter into Heaven.\n",
      ">\n",
      ">Are you saying that baptism has nothing to do with asking Jesus to come into\n",
      ">your heart and accepting him as your savior, but is just a ritual that we\n",
      ">must go through to enable us to enter Heaven?\n",
      "\n",
      "   I don't think Joe was saying any such thing.  However, your question\n",
      "on \"asking Jesus to come into your heart\" seems to imply that infants\n",
      "are not allowed to have Christ in theirs.  Why must Baptism always be\n",
      "viewed by some people as a sort of \"prodigal son\" type of thing; i.e. a\n",
      "sudden change of heart, going from not accepting Christ to suddenly\n",
      "accepting Christ?  Why can't people start out with Christ from shortly\n",
      "after birth, and build their relationship from there?  After all, does\n",
      "a man suddenly meet a woman, and then marry her that same day?  From my\n",
      "experiences, I've learned that all relationships must be built,\n",
      "including one's relationship with God.\n",
      "\n",
      "   Also Joe is speaking from the standpoint that Baptism is not just a\n",
      "ritual, but that through it God bestows sacramental grace upon the\n",
      "recipient.  Certainly for those with the mental faculties to know Christ\n",
      "it is necessary to believe in Him.  However, the Sacrament itself\n",
      "bestows grace on the recipient, and makes a permanent mark of adoption\n",
      "into God's family on the soul.\n",
      "\n",
      "-\t-\t-\t-\t-\t-\t-\t-\t-\t-\n",
      "Steve Creps, Indiana University\n",
      "creps@lateran.ucs.indiana.edu\n",
      "\n",
      "['values', array([1, 1, 1])]\n",
      "['sample', array([2, 2, 2, 1])]\n",
      "['data', array([[1., 1., 1.],\n",
      "       [0., 1., 1.],\n",
      "       [0., 1., 1.],\n",
      "       [0., 1., 1.],\n",
      "       [0., 0., 1.]])]\n",
      "['inverse_data', array([[1., 1., 1.],\n",
      "       [0., 1., 1.],\n",
      "       [0., 1., 1.],\n",
      "       [0., 1., 1.],\n",
      "       [0., 0., 1.]])]\n",
      "['sparse_inverse', 10]\n",
      "['sparse_inverse', <5x23035 sparse matrix of type '<class 'numpy.float64'>'\n",
      "\twith 10 stored elements in Compressed Sparse Row format>]\n",
      "['distances:', array([1.        , 0.7638468 , 0.7638468 , 0.7638468 , 0.23953341])]\n",
      "['labels', array([[0.09986209, 0.90013791],\n",
      "       [0.09788637, 0.90211363],\n",
      "       [0.09788637, 0.90211363],\n",
      "       [0.09788637, 0.90211363],\n",
      "       [0.09815501, 0.90184499]])]\n",
      "['mean', 0.9016647580957218]\n",
      "['weighted_data', array([[1.        , 1.        , 1.        ],\n",
      "       [0.        , 0.7638468 , 0.7638468 ],\n",
      "       [0.        , 0.7638468 , 0.7638468 ],\n",
      "       [0.        , 0.7638468 , 0.7638468 ],\n",
      "       [0.        , 0.        , 0.23953341]])]\n",
      "['weighted_labels', array([-1.52685104e-03,  3.42870917e-04,  3.42870917e-04,  3.42870917e-04,\n",
      "        4.31709243e-05])]\n",
      "['used_features', 3]\n",
      "['True Label vs Local Model Prediction: ', 0.9001379070560722, array([0.90013791])]\n",
      "['raw explanation:', [(13948, -0.00197572497383236), (15343, 0.00026864469708232113), (22719, 0.00018022923710048192)]]\n",
      "['explanation:', 'going', -0.00197572497383236]\n",
      "['explanation:', 'is', 0.00026864469708232113]\n",
      "['explanation:', 'what', 0.00018022923710048192]\n",
      "([(13948, -0.00197572497383236), (15343, 0.00026864469708232113), (22719, 0.00018022923710048192)], 0.9016647580957218)\n"
     ]
    }
   ],
   "source": [
    "DEBUG = True\n",
    "\n",
    "# vecotorize - bag of words\n",
    "vectorizer = CountVectorizer(lowercase=False, binary=True) \n",
    "train_vectors = vectorizer.fit_transform(train_data)\n",
    "test_vectors = vectorizer.transform(test_data)\n",
    "\n",
    "#vocab\n",
    "vocab = vectorizer.vocabulary_\n",
    "print(\"vocab size: \", len(vocab))\n",
    "\n",
    "#creating indices for retrieving vocab\n",
    "#print(\"Vocabulary: \", vectorizer.vocabulary_)\n",
    "terms = np.array(list(vectorizer.vocabulary_.keys()))\n",
    "indices = np.array(list(vectorizer.vocabulary_.values()))\n",
    "inverse_vocabulary = terms[np.argsort(indices)]\n",
    "print(\"vocab\", inverse_vocabulary)\n",
    "\n",
    "#print(vectorizer)\n",
    "print(\"train_vectors shape: \", train_vectors.shape)\n",
    "\n",
    "#print(\"instance vector\", test_vectors[10])\n",
    "print(\"instance_vector shape: \", test_vectors[10].shape)\n",
    "\n",
    "\n",
    "# build classifier\n",
    "# l1 = lasso, l2 = ridge\n",
    "classifier = sklearn.linear_model.LogisticRegression(fit_intercept=True)\n",
    "classifier.fit(train_vectors, train_labels)\n",
    "print(\"test prediction:\", classifier.predict_proba(test_vectors[10]))\n",
    "\n",
    "random_explainer = RandomExplainer(K=10)\n",
    "random_explanation = random_explainer.explain_instance(test_vectors[10], test_labels[10])\n",
    "print(random_explanation)\n",
    "\n",
    "# inject easy sample for testing\n",
    "print(test_data[10])\n",
    "test_data[10] = \"what is what is going what going\"\n",
    "test_vectors = vectorizer.transform(test_data)\n",
    "\n",
    "LIME_explainer = LIME(N=5, K=3)\n",
    "\n",
    "LIME_explain_fn = LIME_explainer.explain_instance(test_vectors[10], test_labels[10], classifier)\n",
    "print(LIME_explain_fn)"
   ]
  },
  {
   "cell_type": "markdown",
   "metadata": {},
   "source": [
    "Random Explainer for baseline"
   ]
  },
  {
   "cell_type": "code",
   "execution_count": 410,
   "metadata": {},
   "outputs": [],
   "source": [
    "#Explainer - Random\n",
    "class RandomExplainer:\n",
    "    def __init__(self, K=10):\n",
    "        self.K = K\n",
    "\n",
    "    def explain_instance(self, instance_vector, label):\n",
    "        nonzero = instance_vector.nonzero()[1]\n",
    "        explanation = np.random.choice(nonzero, self.K)\n",
    "        return [(x, 1) for x in explanation]"
   ]
  },
  {
   "cell_type": "code",
   "execution_count": 411,
   "metadata": {
    "scrolled": true
   },
   "outputs": [
    {
     "data": {
      "text/plain": [
       "[(13948, 1),\n",
       " (13948, 1),\n",
       " (15343, 1),\n",
       " (22719, 1),\n",
       " (15343, 1),\n",
       " (13948, 1),\n",
       " (22719, 1),\n",
       " (13948, 1),\n",
       " (13948, 1),\n",
       " (13948, 1)]"
      ]
     },
     "execution_count": 411,
     "metadata": {},
     "output_type": "execute_result"
    }
   ],
   "source": [
    "explainer = RandomExplainer(K=10)\n",
    "explain_fn = explainer.explain_instance\n",
    "\n",
    "# vecotorize - bag of words\n",
    "vectorizer = CountVectorizer(lowercase=False, binary=True) \n",
    "train_vectors = vectorizer.fit_transform(train_data)\n",
    "test_vectors = vectorizer.transform(test_data)\n",
    "\n",
    "# build classifier\n",
    "# l1 = lasso, l2 = ridge\n",
    "classifier = sklearn.linear_model.LogisticRegression(fit_intercept=True)\n",
    "classifier.fit(train_vectors, train_labels)\n",
    "\n",
    "explain_fn(test_vectors[10], test_labels[10])"
   ]
  },
  {
   "cell_type": "markdown",
   "metadata": {},
   "source": [
    "Set of classifiers used in the experiments."
   ]
  },
  {
   "cell_type": "code",
   "execution_count": 428,
   "metadata": {
    "scrolled": true
   },
   "outputs": [],
   "source": [
    "#Classifiers\n",
    "def get_classifier(name):\n",
    "    #lasso\n",
    "    if name == 'logreg-l1':\n",
    "        return linear_model.LogisticRegression(penalty='l1', fit_intercept=True)\n",
    "    #ridge\n",
    "    if name == 'logreg-l2':\n",
    "        return linear_model.LogisticRegression(fit_intercept=True)\n",
    "    if name == 'svm':\n",
    "        return svm.SVC(probability=True, kernel='rbf', C=10,gamma=0.001)\n",
    "    if name == 'tree':\n",
    "        return tree.DecisionTreeClassifier(random_state=1)\n",
    "    if name == 'neighbors':\n",
    "        return neighbors.KNeighborsClassifier()"
   ]
  },
  {
   "cell_type": "markdown",
   "metadata": {},
   "source": [
    "Reproduce Figure 2. Paper didn't provide the data for figure 2, found it through matching the text in the paper. "
   ]
  },
  {
   "cell_type": "code",
   "execution_count": 415,
   "metadata": {
    "scrolled": false
   },
   "outputs": [
    {
     "name": "stdout",
     "output_type": "stream",
     "text": [
      "id 262 example entry from paper: From: pauld@verdix.com (Paul Durbin)\n",
      "Subject: Re: DAVID CORESH IS! GOD!\n",
      "Nntp-Posting-Host: sarge.hq.verdix.com\n",
      "Organization: Verdix Corp\n",
      "Lines: 8\n",
      "\n",
      "On one of the morning shows (I think is was the Today Show), David Koresh's\n",
      "lawyer was interviewed. During that interview he flipped through some letters\n",
      "that David Koresh wrote. On one of letters was written in Hebrew (near the\n",
      "bottom of the page):\n",
      "\n",
      "  koresh adonai\n",
      "\n",
      "Did anyone else see that? What could this mean by him (David) writing this?\n",
      "\n",
      "explanation: Posting 0.2720876102700741\n",
      "explanation: Host 0.25948766301957604\n",
      "explanation: Re 0.16622922117966074\n",
      "explanation: Nntp 0.10509618653018112\n",
      "explanation: in -0.0855246455583565\n",
      "explanation: by -0.08063167244703102\n",
      "explanation: this -0.0791801845091335\n",
      "explanation: anyone -0.058164891954772306\n",
      "explanation: was -0.05102401547209193\n",
      "explanation: Paul -0.046171209084104915\n"
     ]
    }
   ],
   "source": [
    "DEBUG = False\n",
    "\n",
    "from sklearn.datasets import fetch_20newsgroups\n",
    "\n",
    "#print(sklearn.datasets.fetch_20newsgroups().keys())\n",
    "\n",
    "categories = ['alt.atheism', 'soc.religion.christian']\n",
    "newsgroups_train = fetch_20newsgroups(subset='train', categories=categories)\n",
    "newsgroups_test = fetch_20newsgroups(subset='test', categories=categories)\n",
    "class_names = ['atheism', 'christian']\n",
    "train_data = newsgroups_train.data\n",
    "train_labels = newsgroups_train.target\n",
    "test_data = newsgroups_test.data\n",
    "test_labels = newsgroups_test.target\n",
    "\n",
    "#finds sample from paper\n",
    "def find_sample():\n",
    "    for i in range(len(test_data)):\n",
    "        #print(test_sample)\n",
    "        if \"pauld@verdix.com\" in test_data[i]:\n",
    "            print(\"id\", i, \"example entry from paper:\", test_data[i])\n",
    "            return i, test_data[i]\n",
    "        \n",
    "test_sample = find_sample()\n",
    "\n",
    "# vecotorize - bag of words\n",
    "vectorizer = CountVectorizer(lowercase=False, binary=True) \n",
    "train_vectors = vectorizer.fit_transform(train_data)\n",
    "test_vectors = vectorizer.transform(test_data)\n",
    "\n",
    "# indexes vocab\n",
    "terms = np.array(list(vectorizer.vocabulary_.keys()))\n",
    "indices = np.array(list(vectorizer.vocabulary_.values()))\n",
    "inverse_vocabulary = terms[np.argsort(indices)]\n",
    "\n",
    "# build classifier\n",
    "# l1 = lasso, l2 = ridge\n",
    "classifier = svm.SVC(probability=True, kernel='rbf', C=10, gamma=0.001)\n",
    "classifier.fit(train_vectors, train_labels)\n",
    "\n",
    "LIME_explainer = LIME(N=15000, K=10)\n",
    "\n",
    "#Look for the example provided in the paper figure 2\n",
    "LIME_explain_fn = LIME_explainer.explain_instance(test_vectors[262], test_labels[262], classifier)\n",
    "explanations, mean = LIME_explain_fn\n",
    "\n",
    "features = []\n",
    "coefficients = []\n",
    "\n",
    "#mapping it back to vocab\n",
    "for explanation in explanations:\n",
    "    print(\"explanation:\", inverse_vocabulary[explanation[0]], explanation[1])\n",
    "    features.append(inverse_vocabulary[explanation[0]])\n",
    "    coefficients.append(explanation[1])\n",
    "            "
   ]
  },
  {
   "cell_type": "code",
   "execution_count": 416,
   "metadata": {
    "scrolled": false
   },
   "outputs": [
    {
     "name": "stdout",
     "output_type": "stream",
     "text": [
      "[0.2720876102700741, 0.25948766301957604, 0.16622922117966074, 0.10509618653018112, 0.0855246455583565, 0.08063167244703102, 0.0791801845091335, 0.058164891954772306, 0.05102401547209193, 0.046171209084104915]\n"
     ]
    },
    {
     "data": {
      "image/png": "[encoded data removed]",
      "text/plain": [
       "<Figure size 640x480 with 1 Axes>"
      ]
     },
     "metadata": {},
     "output_type": "display_data"
    }
   ],
   "source": [
    "#plot figure 2\n",
    "feature_val = np.arange(len(features))\n",
    "class_color = []\n",
    "abs_coef = list(map(abs, coefficients))\n",
    "\n",
    "print(abs_coef)\n",
    "\n",
    "for coef in coefficients:\n",
    "    if coef >= 0:\n",
    "        class_color.append(\"purple\")\n",
    "    else:\n",
    "        class_color.append(\"green\")\n",
    "        \n",
    "plt.barh(feature_val, abs_coef, color=class_color, align='center', alpha=0.5)\n",
    "plt.gca().invert_yaxis()\n",
    "plt.yticks(y_pos, objects)\n",
    "plt.xlabel('coefficients')\n",
    "plt.title('Words that A2 Considers Important')\n",
    "\n",
    "plt.show()"
   ]
  },
  {
   "cell_type": "markdown",
   "metadata": {},
   "source": [
    "Figure 2"
   ]
  },
  {
   "cell_type": "markdown",
   "metadata": {},
   "source": [
    "<img src=\"figure_2.png\" alt=\"Figure_2\" style=\"width: 250px;\"/> "
   ]
  },
  {
   "cell_type": "markdown",
   "metadata": {},
   "source": [
    "Experiment 1 (Section 5.2 - Are explanations faithful to the model?)"
   ]
  },
  {
   "cell_type": "code",
   "execution_count": 128,
   "metadata": {},
   "outputs": [],
   "source": [
    "#bag of words\n",
    "def get_vectorizer(train_data, test_data):\n",
    "    \n",
    "    vectorizer = CountVectorizer(lowercase=False, binary=True) \n",
    "    train_vectors = vectorizer.fit_transform(train_data)\n",
    "    test_vectors = vectorizer.transform(test_data)\n",
    "\n",
    "    return train_vectors, test_vectors, vectorizer"
   ]
  },
  {
   "cell_type": "code",
   "execution_count": 463,
   "metadata": {
    "scrolled": false
   },
   "outputs": [],
   "source": [
    "DEBUG = False\n",
    "\n",
    "#ground truth features from logistic regression\n",
    "\n",
    "#train_data, train_labels, test_data, test_labels, class_names = Load_Dataset(data_path_books)\n",
    "books = data_path_books\n",
    "DVD = data_path_dvd\n",
    "\n",
    "def experiment_1(data_path, classifier_name):\n",
    "\n",
    "    train_data, train_labels, test_data, test_labels, class_names = Load_Dataset(data_path)\n",
    "\n",
    "    train_vectors, test_vectors, vectorizer = get_vectorizer(train_data, test_data)\n",
    "    \n",
    "    terms = np.array(list(vectorizer.vocabulary_.keys()))\n",
    "    indices = np.array(list(vectorizer.vocabulary_.values()))\n",
    "    inverse_vocabulary = terms[np.argsort(indices)]\n",
    "    \n",
    "    classifier = get_classifier(classifier_name)\n",
    "    classifier.fit(train_vectors, train_labels)\n",
    "\n",
    "    results_LIME = []\n",
    "    results_Random = []\n",
    "    \n",
    "    LIME_explainer = LIME(N=15000, K=10)\n",
    "    Random_explainer = RandomExplainer(K=10)\n",
    "\n",
    "    coef_features = classifier.coef_.nonzero()[1]\n",
    "\n",
    "    for i in tqdm(range(len(test_data))):\n",
    "        \n",
    "        true_features = set([x for x in test_vectors[i].nonzero()[1] if x in coef_features])\n",
    "        \n",
    "        random_features = set(map(lambda x:x[0], Random_explainer.explain_instance(test_vectors[i], test_labels[i])))\n",
    "        lime_features = set(map(lambda x:x[0], LIME_explainer.explain_instance(test_vectors[i], test_labels[i], classifier)[0]))\n",
    "        \n",
    "        log([\"true\", true_features])\n",
    "        log([\"lime\", lime_features])\n",
    "        \n",
    "        results_LIME.append(float(len(true_features.intersection(lime_features))) / len(true_features))\n",
    "        results_Random.append(float(len(true_features.intersection(random_features))) / len(true_features))\n",
    "        \n",
    "    return results_Random, results_LIME"
   ]
  },
  {
   "cell_type": "code",
   "execution_count": 464,
   "metadata": {
    "scrolled": true
   },
   "outputs": [
    {
     "name": "stderr",
     "output_type": "stream",
     "text": [
      "100%|██████████| 400/400 [06:32<00:00,  1.02it/s]\n",
      "100%|██████████| 400/400 [06:42<00:00,  1.01s/it]\n"
     ]
    }
   ],
   "source": [
    "results_Random_books, results_LIME_books = experiment_1(books, \"logreg-l2\")\n",
    "results_Random_DVD, results_LIME_DVD = experiment_1(DVD, \"logreg-l2\")"
   ]
  },
  {
   "cell_type": "code",
   "execution_count": 465,
   "metadata": {},
   "outputs": [
    {
     "name": "stdout",
     "output_type": "stream",
     "text": [
      "Books:\n",
      "random 0.19879846131468262\n",
      "LIME 0.23083406078661473\n",
      "DVDs:\n",
      "random 0.2084580928286352\n",
      "LIME 0.24668181371476197\n"
     ]
    }
   ],
   "source": [
    "print(\"Books:\")\n",
    "print(\"random\", np.mean(results_Random_books))\n",
    "print(\"LIME\", np.mean(results_LIME_books))\n",
    "\n",
    "print(\"DVDs:\")\n",
    "print(\"random\", np.mean(results_Random_DVD))\n",
    "print(\"LIME\", np.mean(results_LIME_DVD))"
   ]
  },
  {
   "cell_type": "markdown",
   "metadata": {},
   "source": [
    "Experiment 2 (Section 5.3 - Should I trust this prediction?)"
   ]
  },
  {
   "cell_type": "code",
   "execution_count": null,
   "metadata": {
    "scrolled": false
   },
   "outputs": [],
   "source": [
    "DEBUG = False\n",
    "\n",
    "def experiment_2(data_path, classifier):\n",
    "    \n",
    "    percent_untrustworthy = .25\n",
    "    \n",
    "    train_data, train_labels, test_data, test_labels, class_names = Load_Dataset(data_path)\n",
    "    \n",
    "    vectorizer = CountVectorizer(lowercase=False, binary=True) \n",
    "    train_vectors = vectorizer.fit_transform(train_data)\n",
    "    test_vectors = vectorizer.transform(test_data)\n",
    "    \n",
    "    terms = np.array(list(vectorizer.vocabulary_.keys()))\n",
    "    indices = np.array(list(vectorizer.vocabulary_.values()))\n",
    "    inverse_vocabulary = terms[np.argsort(indices)]\n",
    "    \n",
    "    classifier = get_classifier(classifier)\n",
    "    classifier.fit(train_vectors, train_labels)\n",
    "    \n",
    "    np.random.seed(1)    \n",
    "    untrustworthy_rounds = []\n",
    "    all_features = range(train_vectors.shape[1])\n",
    "    num_untrustworthy = int(train_vectors.shape[1] * percent_untrustworthy)\n",
    "    \n",
    "    for _ in range(100):\n",
    "        untrustworthy_rounds.append(np.random.choice(all_features, num_untrustworthy, replace=False))\n",
    "  \n",
    "    LIME_explainer = LIME(N=15000, K=10)\n",
    "    RANDOM_explainer = RandomExplainer(K=10)\n",
    "    exps = {}\n",
    "    \n",
    "    explainer_names = ['LIME', 'RANDOM']\n",
    "    \n",
    "    for expl in explainer_names:\n",
    "        exps[expl] = []\n",
    "\n",
    "    predictions = classifier.predict(test_vectors)\n",
    "    predict_probas = classifier.predict_proba(test_vectors)[:,1]\n",
    "  \n",
    "    for i in tqdm(range(test_vectors.shape[0])):\n",
    "        \n",
    "        exp, mean = LIME_explainer.explain_instance(test_vectors[i], 1, classifier)\n",
    "        exps['LIME'].append((exp, mean))\n",
    "\n",
    "        exp = RANDOM_explainer.explain_instance(test_vectors[i], 1)\n",
    "        exps['RANDOM'].append(exp)\n",
    "\n",
    "    log(exps['RANDOM'])\n",
    "\n",
    "    precision = {}\n",
    "    recall = {}\n",
    "    f1 = {}\n",
    "  \n",
    "    for name in explainer_names:\n",
    "        \n",
    "        precision[name] = []\n",
    "        recall[name] = []\n",
    "        f1[name] = []\n",
    "        flipped_preds_size = []\n",
    "  \n",
    "    for untrustworthy in untrustworthy_rounds:\n",
    "        \n",
    "        t = test_vectors.copy()\n",
    "        t[:, untrustworthy] = 0\n",
    "        mistrust_idx = np.argwhere(classifier.predict(t) != classifier.predict(test_vectors)).flatten()\n",
    "        \n",
    "        log(['Number of suspect predictions', len(mistrust_idx)])\n",
    "        shouldnt_trust = set(mistrust_idx)\n",
    "        flipped_preds_size.append(len(shouldnt_trust))\n",
    "        mistrust = collections.defaultdict(lambda:set())\n",
    "        trust = collections.defaultdict(lambda: set())\n",
    "        \n",
    "        trust_fn = lambda prev, curr: (prev > 0.5 and curr > 0.5) or (prev <= 0.5 and curr <= 0.5)\n",
    "        trust_fn_all = lambda exp, unt: len([x[0] for x in exp if x[0] in unt]) == 0\n",
    "    \n",
    "        for i in range(test_vectors.shape[0]):\n",
    "      \n",
    "            exp, mean = exps['LIME'][i]\n",
    "            prev_tot = predict_probas[i]\n",
    "            prev_tot2 = sum([x[1] for x in exp]) + mean\n",
    "            tot = prev_tot2 - sum([x[1] for x in exp if x[0] in untrustworthy])\n",
    "            trust['LIME'].add(i) if trust_fn(tot, prev_tot) else mistrust['LIME'].add(i)\n",
    "      \n",
    "            exp = exps['RANDOM'][i]\n",
    "            trust['RANDOM'].add(i) if trust_fn_all(exp, untrustworthy) else mistrust['RANDOM'].add(i)\n",
    "\n",
    "        for expl in explainer_names:\n",
    "            # switching the definition\n",
    "            false_positives = set(trust[expl]).intersection(shouldnt_trust)\n",
    "            true_positives = set(trust[expl]).difference(shouldnt_trust)\n",
    "            false_negatives = set(mistrust[expl]).difference(shouldnt_trust)\n",
    "            true_negatives = set(mistrust[expl]).intersection(shouldnt_trust)\n",
    "\n",
    "            try:\n",
    "                prec= len(true_positives) / float(len(true_positives) + len(false_positives))\n",
    "            except:\n",
    "                prec= 0\n",
    "            try:\n",
    "                rec= float(len(true_positives)) / (len(true_positives) + len(false_negatives))\n",
    "            except:\n",
    "                rec= 0\n",
    "\n",
    "            precision[expl].append(prec)\n",
    "            recall[expl].append(rec)\n",
    "            f1z = 2 * (prec * rec) / (prec + rec) if (prec and rec) else 0\n",
    "            f1[expl].append(f1z)\n",
    "    \n",
    "    log(['Average number of flipped predictions:', np.mean(flipped_preds_size), '+-', np.std(flipped_preds_size)])\n",
    "    log(['Precision:'])\n",
    "    for expl in explainer_names:\n",
    "        log([expl, np.mean(precision[expl]), '+-', np.std(precision[expl]), 'pvalue', sp.stats.ttest_ind(precision[expl], precision['LIME'])[1].round(4)])\n",
    "    log(['Recall:'])\n",
    "    for expl in explainer_names:\n",
    "        log([expl, np.mean(recall[expl]), '+-', np.std(recall[expl]), 'pvalue', sp.stats.ttest_ind(recall[expl], recall['LIME'])[1].round(4)])\n",
    "    log(['F1:'])\n",
    "    for expl in explainer_names:\n",
    "        log([expl, np.mean(f1[expl]), '+-', np.std(f1[expl]), 'pvalue', sp.stats.ttest_ind(f1[expl], f1['LIME'])[1].round(4)])\n",
    "    \n",
    "    return precision, recall, f1"
   ]
  },
  {
   "cell_type": "code",
   "execution_count": 439,
   "metadata": {},
   "outputs": [],
   "source": [
    "#precision, recall, f1 = experiment_2(books, \"logreg-l2\")"
   ]
  },
  {
   "cell_type": "code",
   "execution_count": 438,
   "metadata": {},
   "outputs": [
    {
     "name": "stdout",
     "output_type": "stream",
     "text": [
      "logreg-l2\n"
     ]
    },
    {
     "name": "stderr",
     "output_type": "stream",
     "text": [
      "100%|██████████| 400/400 [06:18<00:00,  1.06it/s]\n",
      "/Users/Ru/opt/anaconda3/lib/python3.8/site-packages/scipy/sparse/_index.py:125: SparseEfficiencyWarning: Changing the sparsity structure of a csr_matrix is expensive. lil_matrix is more efficient.\n",
      "  self._set_arrayXarray(i, j, x)\n",
      "100%|██████████| 400/400 [06:22<00:00,  1.05it/s]\n",
      "/Users/Ru/opt/anaconda3/lib/python3.8/site-packages/scipy/sparse/_index.py:125: SparseEfficiencyWarning: Changing the sparsity structure of a csr_matrix is expensive. lil_matrix is more efficient.\n",
      "  self._set_arrayXarray(i, j, x)\n"
     ]
    },
    {
     "name": "stdout",
     "output_type": "stream",
     "text": [
      "neighbors\n"
     ]
    },
    {
     "name": "stderr",
     "output_type": "stream",
     "text": [
      "100%|██████████| 400/400 [13:22<00:00,  2.01s/it]\n",
      "/Users/Ru/opt/anaconda3/lib/python3.8/site-packages/scipy/sparse/_index.py:125: SparseEfficiencyWarning: Changing the sparsity structure of a csr_matrix is expensive. lil_matrix is more efficient.\n",
      "  self._set_arrayXarray(i, j, x)\n",
      "100%|██████████| 400/400 [13:38<00:00,  2.05s/it]\n",
      "/Users/Ru/opt/anaconda3/lib/python3.8/site-packages/scipy/sparse/_index.py:125: SparseEfficiencyWarning: Changing the sparsity structure of a csr_matrix is expensive. lil_matrix is more efficient.\n",
      "  self._set_arrayXarray(i, j, x)\n"
     ]
    },
    {
     "name": "stdout",
     "output_type": "stream",
     "text": [
      "svm\n"
     ]
    },
    {
     "name": "stderr",
     "output_type": "stream",
     "text": [
      "100%|██████████| 400/400 [55:50<00:00,  8.38s/it] \n",
      "/Users/Ru/opt/anaconda3/lib/python3.8/site-packages/scipy/sparse/_index.py:125: SparseEfficiencyWarning: Changing the sparsity structure of a csr_matrix is expensive. lil_matrix is more efficient.\n",
      "  self._set_arrayXarray(i, j, x)\n",
      "100%|██████████| 400/400 [50:05<00:00,  7.51s/it] \n",
      "/Users/Ru/opt/anaconda3/lib/python3.8/site-packages/scipy/sparse/_index.py:125: SparseEfficiencyWarning: Changing the sparsity structure of a csr_matrix is expensive. lil_matrix is more efficient.\n",
      "  self._set_arrayXarray(i, j, x)\n"
     ]
    }
   ],
   "source": [
    "scores_books = {\"logreg-l2\":[], \"neighbors\":[], \"svm\": []}\n",
    "scores_dvds = {\"logreg-l2\":[], \"neighbors\":[], \"svm\": []}\n",
    "\n",
    "for cat in scores_books:\n",
    "    print(cat)\n",
    "    scores_books[cat] = experiment_2(books, cat)\n",
    "    scores_dvds[cat] = experiment_2(DVD, cat)"
   ]
  },
  {
   "cell_type": "code",
   "execution_count": 454,
   "metadata": {},
   "outputs": [
    {
     "name": "stdout",
     "output_type": "stream",
     "text": [
      "Books:\n",
      "logreg-l2-LIME 0.9665532502679051\n",
      "logreg-l2-Random 0.13777789040152993\n",
      "nn-LIME 0.9414930780390607\n",
      "nn-Random 0.1447327043562891\n",
      "svm-LIME 0.9668618358252699\n",
      "svm-Random 0.14168659390499347\n"
     ]
    }
   ],
   "source": [
    "print(\"Books:\")\n",
    "\n",
    "print(\"logreg-l2-LIME\", np.mean(scores_books['logreg-l2'][2]['LIME']))\n",
    "print(\"logreg-l2-Random\", np.mean(scores_books['logreg-l2'][2]['RANDOM']))\n",
    "      \n",
    "print(\"nn-LIME\", np.mean(scores_books['neighbors'][2]['LIME']))\n",
    "print(\"nn-Random\", np.mean(scores_books['neighbors'][2]['RANDOM']))\n",
    "      \n",
    "print(\"svm-LIME\", np.mean(scores_books['svm'][2]['LIME']))\n",
    "print(\"svm-Random\", np.mean(scores_books['svm'][2]['RANDOM']))"
   ]
  },
  {
   "cell_type": "code",
   "execution_count": 456,
   "metadata": {},
   "outputs": [
    {
     "name": "stdout",
     "output_type": "stream",
     "text": [
      "DVDs:\n",
      "logreg-l2-LIME 0.9690990484594824\n",
      "logreg-l2-Random 0.1459032642884926\n",
      "nn-LIME 0.907823857014562\n",
      "nn-Random 0.1501628088210605\n",
      "svm-LIME 0.9671570187764498\n",
      "svm-Random 0.1466569550965759\n"
     ]
    }
   ],
   "source": [
    "print(\"DVDs:\")\n",
    "\n",
    "print(\"logreg-l2-LIME\", np.mean(scores_dvds['logreg-l2'][2]['LIME']))\n",
    "print(\"logreg-l2-Random\", np.mean(scores_dvds['logreg-l2'][2]['RANDOM']))\n",
    "      \n",
    "print(\"nn-LIME\", np.mean(scores_dvds['neighbors'][2]['LIME']))\n",
    "print(\"nn-Random\", np.mean(scores_dvds['neighbors'][2]['RANDOM']))\n",
    "      \n",
    "print(\"svm-LIME\", np.mean(scores_dvds['svm'][2]['LIME']))\n",
    "print(\"svm-Random\", np.mean(scores_dvds['svm'][2]['RANDOM']))"
   ]
  },
  {
   "cell_type": "code",
   "execution_count": null,
   "metadata": {},
   "outputs": [],
   "source": []
  }
 ],
 "metadata": {
  "kernelspec": {
   "display_name": "Python 3",
   "language": "python",
   "name": "python3"
  },
  "language_info": {
   "codemirror_mode": {
    "name": "ipython",
    "version": 3
   },
   "file_extension": ".py",
   "mimetype": "text/x-python",
   "name": "python",
   "nbconvert_exporter": "python",
   "pygments_lexer": "ipython3",
   "version": "3.8.3"
  }
 },
 "nbformat": 4,
 "nbformat_minor": 4
}
